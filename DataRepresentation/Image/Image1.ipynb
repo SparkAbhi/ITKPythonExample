{
 "cells": [
  {
   "cell_type": "code",
   "execution_count": 1,
   "metadata": {
    "collapsed": true
   },
   "outputs": [],
   "source": [
    "# how to create image in itk"
   ]
  },
  {
   "cell_type": "code",
   "execution_count": 2,
   "metadata": {
    "collapsed": true
   },
   "outputs": [],
   "source": [
    "import itk"
   ]
  },
  {
   "cell_type": "code",
   "execution_count": 3,
   "metadata": {
    "collapsed": true
   },
   "outputs": [],
   "source": [
    "# create a 3D image of type unsigned character\n",
    "ImageType = itk.Image[itk.UC,3]\n",
    "image1 =  ImageType.New()"
   ]
  },
  {
   "cell_type": "code",
   "execution_count": 4,
   "metadata": {
    "collapsed": true
   },
   "outputs": [],
   "source": [
    "IndexType= itk.Index[3]"
   ]
  },
  {
   "cell_type": "code",
   "execution_count": 5,
   "metadata": {
    "collapsed": true
   },
   "outputs": [],
   "source": [
    "StartIndex = IndexType()\n",
    "StartIndex.SetElement(0,0)\n",
    "StartIndex.SetElement(1,0)\n",
    "StartIndex.SetElement(2,0)\n"
   ]
  },
  {
   "cell_type": "code",
   "execution_count": 6,
   "metadata": {
    "collapsed": true
   },
   "outputs": [],
   "source": [
    "ImageSizeType = itk.Size[3]\n",
    "regionSize = ImageSizeType()\n",
    "regionSize.SetElement(0,20)\n",
    "regionSize.SetElement(1,20)\n",
    "regionSize.SetElement(2,20)"
   ]
  },
  {
   "cell_type": "code",
   "execution_count": 7,
   "metadata": {
    "collapsed": true
   },
   "outputs": [],
   "source": [
    "RegionType= itk.ImageRegion[3]\n",
    "region = RegionType()\n",
    "region.SetIndex(StartIndex)\n",
    "region.SetSize(regionSize)"
   ]
  },
  {
   "cell_type": "code",
   "execution_count": 8,
   "metadata": {
    "collapsed": true
   },
   "outputs": [],
   "source": [
    "image1.SetRegions(region)\n",
    "image1.Allocate()"
   ]
  },
  {
   "cell_type": "code",
   "execution_count": 9,
   "metadata": {
    "collapsed": true
   },
   "outputs": [],
   "source": [
    "# Convert Image to python array"
   ]
  },
  {
   "cell_type": "code",
   "execution_count": 10,
   "metadata": {
    "collapsed": true
   },
   "outputs": [],
   "source": [
    "itk2py = itk.PyBuffer[ImageType]"
   ]
  },
  {
   "cell_type": "code",
   "execution_count": 11,
   "metadata": {
    "collapsed": true
   },
   "outputs": [],
   "source": [
    "imageArray = itk2py.GetArrayFromImage(image1)"
   ]
  },
  {
   "cell_type": "code",
   "execution_count": 12,
   "metadata": {},
   "outputs": [
    {
     "data": {
      "text/plain": [
       "(20, 20, 20)"
      ]
     },
     "execution_count": 12,
     "metadata": {},
     "output_type": "execute_result"
    }
   ],
   "source": [
    "imageArray.shape"
   ]
  },
  {
   "cell_type": "code",
   "execution_count": 13,
   "metadata": {},
   "outputs": [
    {
     "data": {
      "text/plain": [
       "array([[[216, 130, 162, ..., 118,  56, 172],\n",
       "        [ 65,  86,   0, ...,   0,   0,   0],\n",
       "        [ 72, 119,  56, ..., 200, 215, 210],\n",
       "        ..., \n",
       "        [  0,   0,   0, ...,  86,   0,   0],\n",
       "        [ 48, 120, 202, ...,   0,   0,   0],\n",
       "        [  0,   0,   0, ...,  86,   0,   0]],\n",
       "\n",
       "       [[  0,   0,   0, ...,   0,   0,   0],\n",
       "        [  0,   0,   0, ...,  86,   0,   0],\n",
       "        [ 48,  35,  91, ...,   0,   0,   0],\n",
       "        ..., \n",
       "        [ 65,  86,   0, ...,   0,   0,   0],\n",
       "        [ 22,   0,   0, ...,   0,   0,   0],\n",
       "        [ 65,  86,   0, ...,  86,   0,   0]],\n",
       "\n",
       "       [[  3,   0,   0, ...,   0,   0,   0],\n",
       "        [ 65,  86,   0, ...,   1, 203,   1],\n",
       "        [  3,   0,   0, ...,   0,   0,   0],\n",
       "        ..., \n",
       "        [232,   0,  16, ...,   0,   0,   0],\n",
       "        [  4,   0,   0, ...,  34,  91, 188],\n",
       "        [157, 127,   0, ...,   0, 187,   3]],\n",
       "\n",
       "       ..., \n",
       "       [[ 93, 171, 187, ..., 232, 102, 188],\n",
       "        [157, 127,   0, ...,  86,   0,   0],\n",
       "        [200, 232, 102, ..., 148, 184, 171],\n",
       "        ..., \n",
       "        [100,   5,   0, ..., 127,   0,   0],\n",
       "        [196, 152, 187, ...,  66, 103, 188],\n",
       "        [157, 127,   0, ...,  86,   0,   0]],\n",
       "\n",
       "       [[ 72,  67, 103, ..., 112, 187, 171],\n",
       "        [ 65,  86,   0, ...,   5,   0, 128],\n",
       "        [120, 218, 185, ..., 188, 187,  26],\n",
       "        ..., \n",
       "        [157, 127,   0, ...,  86,   0,   0],\n",
       "        [200,  76, 103, ..., 202, 188, 171],\n",
       "        [ 65,  86,   0, ...,   5,   0, 128]],\n",
       "\n",
       "       [[232, 103, 179, ..., 195, 187,  26],\n",
       "        [100,   5,   0, ..., 127,   0,   0],\n",
       "        [ 82,  55, 187, ...,  79, 103, 188],\n",
       "        ..., \n",
       "        [ 65,  86,   0, ...,   5,   0, 128],\n",
       "        [  8, 126, 179, ..., 116, 187,  26],\n",
       "        [100,   5,   0, ..., 127,   0,   0]]], dtype=uint8)"
      ]
     },
     "execution_count": 13,
     "metadata": {},
     "output_type": "execute_result"
    }
   ],
   "source": [
    "imageArray"
   ]
  }
 ],
 "metadata": {
  "kernelspec": {
   "display_name": "Python 3",
   "language": "python",
   "name": "python3"
  },
  "language_info": {
   "codemirror_mode": {
    "name": "ipython",
    "version": 3
   },
   "file_extension": ".py",
   "mimetype": "text/x-python",
   "name": "python",
   "nbconvert_exporter": "python",
   "pygments_lexer": "ipython3",
   "version": "3.6.3"
  }
 },
 "nbformat": 4,
 "nbformat_minor": 2
}
