{
 "cells": [
  {
   "cell_type": "code",
   "execution_count": 1,
   "metadata": {
    "collapsed": true
   },
   "outputs": [],
   "source": [
    "import itk"
   ]
  },
  {
   "cell_type": "code",
   "execution_count": 2,
   "metadata": {
    "collapsed": true
   },
   "outputs": [],
   "source": [
    "## image read, casting and write objects"
   ]
  },
  {
   "cell_type": "code",
   "execution_count": 3,
   "metadata": {
    "collapsed": true
   },
   "outputs": [],
   "source": [
    "InternalImageType = itk.Image[itk.F,2]\n",
    "OutputImageType   = itk.Image[itk.UC,2]"
   ]
  },
  {
   "cell_type": "code",
   "execution_count": 4,
   "metadata": {
    "collapsed": true
   },
   "outputs": [],
   "source": [
    "ReaderType = itk.ImageFileReader[InternalImageType]\n",
    "#CastingFilterType = itk.CastImageFilter[InternalImageType, OutputImageType]\n",
    "WriterType = itk.ImageFileWriter[OutputImageType]"
   ]
  },
  {
   "cell_type": "code",
   "execution_count": 5,
   "metadata": {
    "collapsed": true
   },
   "outputs": [],
   "source": [
    "Reader = ReaderType.New()\n",
    "#Caster = CastingFilterType.New()\n",
    "Writer = WriterType.New()"
   ]
  },
  {
   "cell_type": "code",
   "execution_count": 6,
   "metadata": {
    "collapsed": true
   },
   "outputs": [],
   "source": [
    "InputImagePath = \"BrainProtonDensitySlice.png\" # give input image path\n",
    "OutputImagePath = \"result3.png\"# give output image path\n",
    "\n",
    "Reader.SetFileName(InputImagePath)\n",
    "Writer.SetFileName(OutputImagePath)"
   ]
  },
  {
   "cell_type": "code",
   "execution_count": 7,
   "metadata": {
    "collapsed": true
   },
   "outputs": [],
   "source": [
    "# Define edge preserving Smoothing filter \"CurvatureFlowImageFilter\""
   ]
  },
  {
   "cell_type": "code",
   "execution_count": 8,
   "metadata": {
    "collapsed": true
   },
   "outputs": [],
   "source": [
    "CurvatureFlowImageFilterType = itk.CurvatureFlowImageFilter[InternalImageType, InternalImageType]\n",
    "Smoothing = CurvatureFlowImageFilterType.New()"
   ]
  },
  {
   "cell_type": "code",
   "execution_count": 9,
   "metadata": {
    "collapsed": true
   },
   "outputs": [],
   "source": [
    "#  Define region growing filter \" Confidence coonected filter\""
   ]
  },
  {
   "cell_type": "code",
   "execution_count": 10,
   "metadata": {
    "collapsed": true
   },
   "outputs": [],
   "source": [
    "ConnectedFilterType = itk.ConfidenceConnectedImageFilter[InternalImageType, OutputImageType]\n",
    "ConnectedFilter = ConnectedFilterType.New()"
   ]
  },
  {
   "cell_type": "code",
   "execution_count": 11,
   "metadata": {
    "collapsed": true
   },
   "outputs": [],
   "source": [
    "# Define pipelining operations"
   ]
  },
  {
   "cell_type": "code",
   "execution_count": 12,
   "metadata": {
    "collapsed": true
   },
   "outputs": [],
   "source": [
    "Smoothing.SetInput(Reader.GetOutput())\n",
    "ConnectedFilter.SetInput(Smoothing.GetOutput())\n",
    "Writer.SetInput(ConnectedFilter.GetOutput())"
   ]
  },
  {
   "cell_type": "code",
   "execution_count": 13,
   "metadata": {
    "collapsed": true
   },
   "outputs": [],
   "source": [
    "# Smoothing filter parameters"
   ]
  },
  {
   "cell_type": "code",
   "execution_count": 14,
   "metadata": {
    "collapsed": true
   },
   "outputs": [],
   "source": [
    "Smoothing.SetNumberOfIterations(5)\n",
    "Smoothing.SetTimeStep(0.125)"
   ]
  },
  {
   "cell_type": "code",
   "execution_count": 15,
   "metadata": {
    "collapsed": true
   },
   "outputs": [],
   "source": [
    "# Connected filter Parameters"
   ]
  },
  {
   "cell_type": "code",
   "execution_count": 16,
   "metadata": {
    "collapsed": true
   },
   "outputs": [],
   "source": [
    "ConnectedFilter.SetMultiplier(2.5)\n",
    "ConnectedFilter.SetNumberOfIterations(5)\n",
    "ConnectedFilter.SetReplaceValue(255)"
   ]
  },
  {
   "cell_type": "code",
   "execution_count": 17,
   "metadata": {
    "collapsed": true
   },
   "outputs": [],
   "source": [
    "# initial seed \n",
    "# result1 image seed : [60 116]\n",
    "# result2 image seed : [81 112]\n",
    "# result3 image seed : [107 69]\n",
    "\n",
    "seed_x_value = 107;\n",
    "seed_y_value = 69;\n",
    "\n",
    "IndexType = itk.Index[2]\n",
    "seedPoint = IndexType()\n",
    "seedPoint.SetElement(0,seed_x_value)\n",
    "seedPoint.SetElement(1,seed_y_value)\n",
    "\n",
    "ConnectedFilter.SetSeed(seedPoint)\n",
    "ConnectedFilter.SetInitialNeighborhoodRadius(2)"
   ]
  },
  {
   "cell_type": "code",
   "execution_count": 18,
   "metadata": {
    "collapsed": true
   },
   "outputs": [],
   "source": [
    "Writer.Update()"
   ]
  }
 ],
 "metadata": {
  "kernelspec": {
   "display_name": "Python 3",
   "language": "python",
   "name": "python3"
  },
  "language_info": {
   "codemirror_mode": {
    "name": "ipython",
    "version": 3
   },
   "file_extension": ".py",
   "mimetype": "text/x-python",
   "name": "python",
   "nbconvert_exporter": "python",
   "pygments_lexer": "ipython3",
   "version": "3.6.3"
  }
 },
 "nbformat": 4,
 "nbformat_minor": 2
}
